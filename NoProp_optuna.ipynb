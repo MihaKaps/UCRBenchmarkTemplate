{
 "cells": [
  {
   "cell_type": "code",
   "execution_count": 1,
   "id": "b08dab89-82b1-4163-ad77-ce36001589d1",
   "metadata": {},
   "outputs": [
    {
     "name": "stderr",
     "output_type": "stream",
     "text": [
      "\u001b[32m2025-10-08 07:39:11.853\u001b[0m | \u001b[1mINFO    \u001b[0m | \u001b[36mucr_benchmark_template.config\u001b[0m:\u001b[36m<module>\u001b[0m:\u001b[36m11\u001b[0m - \u001b[1mPROJ_ROOT path is: /home/jovyan/UCRBenchmarkTemplate\u001b[0m\n"
     ]
    }
   ],
   "source": [
    "import importlib\n",
    "from ucr_benchmark_template.modeling import train_noprop\n",
    "\n",
    "importlib.reload(train_noprop)\n",
    "\n",
    "from ucr_benchmark_template.modeling.train_noprop import (\n",
    "    load_dataset, make_model, train, predict, evaluate, save_model\n",
    ")"
   ]
  },
  {
   "cell_type": "code",
   "execution_count": null,
   "id": "2e31269b-4d20-4118-aa24-5fc84a2d5c94",
   "metadata": {},
   "outputs": [
    {
     "name": "stderr",
     "output_type": "stream",
     "text": [
      "[I 2025-10-08 07:39:18,862] A new study created in memory with name: no-name-b9b1573c-ea22-41c7-a098-2612da3352cd\n"
     ]
    },
    {
     "name": "stdout",
     "output_type": "stream",
     "text": [
      "ACSF1\n",
      "Adiac\n",
      "ArrowHead\n",
      "BME\n",
      "Beef\n",
      "BeetleFly\n",
      "BirdChicken\n",
      "CBF\n",
      "Car\n",
      "Chinatown\n",
      "ChlorineConcentration\n"
     ]
    }
   ],
   "source": [
    "import optuna\n",
    "import numpy as np\n",
    "import pandas as pd\n",
    "import os\n",
    "\n",
    "def objective(trial):\n",
    "    datasets = [\n",
    "        \"ACSF1\", \"Adiac\", \"ArrowHead\", \"BME\", \"Beef\", \"BeetleFly\", \"BirdChicken\", \"CBF\", \"Car\", \"Chinatown\",\n",
    "        \"ChlorineConcentration\", \"CinCECGTorso\", \"Coffee\", \"Computers\",\"CricketX\", \"CricketY\", \"CricketZ\", \"Crop\",\n",
    "        \"DiatomSizeReduction\", \"DistalPhalanxOutlineAgeGroup\", \"DistalPhalanxOutlineCorrect\", \"DistalPhalanxTW\",\n",
    "        \"ECG200\", \"ECG5000\", \"ECGFiveDays\", \"EOGHorizontalSignal\", \"EOGVerticalSignal\", \"Earthquakes\", \"ElectricDevices\",\n",
    "        \"EthanolLevel\", \"FaceAll\", \"FaceFour\", \"FacesUCR\", \"FiftyWords\", \"Fish\", \"FordA\", \"FordB\", \"FreezerRegularTrain\",\n",
    "        \"FreezerSmallTrain\", \"GunPoint\", \"GunPointAgeSpan\", \"GunPointMaleVersusFemale\", \"GunPointOldVersusYoung\", \"Ham\",\n",
    "        \"HandOutlines\", \"Haptics\", \"Herring\", \"HouseTwenty\", \"InlineSkate\", \"InsectEPGRegularTrain\", \"InsectEPGSmallTrain\",\n",
    "        \"InsectWingbeatSound\", \"ItalyPowerDemand\", \"LargeKitchenAppliances\", \"Lightning2\", \"Lightning7\", \"Mallat\", \"Meat\",\n",
    "        \"MedicalImages\", \"MiddlePhalanxOutlineAgeGroup\", \"MiddlePhalanxOutlineCorrect\", \"MiddlePhalanxTW\",\n",
    "        \"MixedShapesRegularTrain\", \"MixedShapesSmallTrain\", \"MoteStrain\", \"NonInvasiveFetalECGThorax1\",\n",
    "        \"NonInvasiveFetalECGThorax2\", \"OSULeaf\", \"OliveOil\", \"PhalangesOutlinesCorrect\", \"Phoneme\", \"PigAirwayPressure\",\n",
    "        \"PigArtPressure\", \"PigCVP\", \"Plane\", \"PowerCons\", \"ProximalPhalanxOutlineAgeGroup\", \"ProximalPhalanxOutlineCorrect\",\n",
    "        \"ProximalPhalanxTW\", \"RefrigerationDevices\", \"Rock\", \"ScreenType\", \"SemgHandGenderCh2\", \"SemgHandMovementCh2\",\n",
    "        \"SemgHandSubjectCh2\", \"ShapeletSim\", \"ShapesAll\", \"SmallKitchenAppliances\", \"SmoothSubspace\",\n",
    "        \"SonyAIBORobotSurface1\", \"SonyAIBORobotSurface2\", \"StarLightCurves\", \"Strawberry\", \"SwedishLeaf\", \"Symbols\",\n",
    "        \"SyntheticControl\", \"ToeSegmentation1\", \"ToeSegmentation2\", \"Trace\", \"TwoLeadECG\", \"TwoPatterns\", \"UMD\",\n",
    "        \"UWaveGestureLibraryAll\", \"UWaveGestureLibraryX\", \"UWaveGestureLibraryY\", \"UWaveGestureLibraryZ\", \"Wafer\", \"Wine\",\n",
    "        \"WordSynonyms\", \"Worms\", \"WormsTwoClass\", \"Yoga\"\n",
    "    ]\n",
    "\n",
    "    # --- Hyperparameters ---\n",
    "    T = trial.suggest_int(\"T\", 2, 10)\n",
    "    emb_d = trial.suggest_categorical(\"embedding_dim\", [0, 8, 16, 32, 64])\n",
    "    eta = trial.suggest_float(\"eta\", 0.1, 1.0, step=0.1)\n",
    "    lr = trial.suggest_float(\"lr\", 1e-4, 1e-2, log=True)\n",
    "    k_size = trial.suggest_categorical(\"k_size\", [3, 5])\n",
    "\n",
    "    n_blocks = trial.suggest_int(\"n_blocks\", 1, 3)\n",
    "    channels = [1]\n",
    "    for i in range(n_blocks):\n",
    "        ch = trial.suggest_categorical(f\"channels_block{i}\", [32, 64, 128])\n",
    "        channels.append(ch)\n",
    "\n",
    "    n_layers = trial.suggest_int(\"n_layers\", 2, 4)\n",
    "    fc_layers = []\n",
    "    for i in range(n_layers):\n",
    "        l = trial.suggest_categorical(f\"layer_size{i}\", [128, 256, 512])\n",
    "        fc_layers.append(l)\n",
    "\n",
    "    wd = trial.suggest_float(\"weight_decay\", 1e-6, 1e-3, log=True)\n",
    "    batch = trial.suggest_categorical(\"batch_size\", [16, 32, 64])\n",
    "    epochs = trial.suggest_int(\"epochs\", 70, 120)\n",
    "\n",
    "    # --- Evaluate ---\n",
    "    accuracies = []\n",
    "    for dataset in datasets:\n",
    "        print(dataset)\n",
    "        trainloader, testloader = load_dataset(dataset)\n",
    "        model = make_model(dataset, emb_d, T, k_size, channels, fc_layers)\n",
    "        model, _ = train(model, trainloader, epochs, T, eta, lr, wd)\n",
    "        y_true, y_pred = predict(model, testloader)\n",
    "        acc = evaluate(y_true, y_pred)[\"accuracy\"]\n",
    "        accuracies.append(acc)\n",
    "\n",
    "    avg_acc = np.mean(accuracies)\n",
    "\n",
    "    # --- Save results to one CSV with all runs ---\n",
    "    csv_path = \"optuna_results.csv\"\n",
    "\n",
    "    # Create base table if doesn't exist\n",
    "    if not os.path.exists(csv_path):\n",
    "        df = pd.DataFrame({\"Dataset\": datasets + [\"AVERAGE\"]})\n",
    "    else:\n",
    "        df = pd.read_csv(csv_path)\n",
    "\n",
    "    # Make trial name\n",
    "    trial_name = f\"Trial_{trial.number+1}\"\n",
    "\n",
    "    # Add this run’s results\n",
    "    run_data = accuracies + [avg_acc]\n",
    "    df[trial_name] = run_data\n",
    "\n",
    "    # Also add hyperparameters as a separate column name pattern\n",
    "    hp_str = (\n",
    "        f\"T={T}, emb={emb_d}, eta={eta}, lr={lr:.1e}, k={k_size}, \"\n",
    "        f\"blocks={n_blocks}, ch={channels}, layers={n_layers}, \"\n",
    "        f\"fc={fc_layers}, wd={wd:.1e}, batch={batch}, epochs={epochs}\"\n",
    "    )\n",
    "\n",
    "    df.loc[df[\"Dataset\"] == \"AVERAGE\", f\"{trial_name}_params\"] = hp_str\n",
    "\n",
    "    df.to_csv(csv_path, index=False)\n",
    "\n",
    "    return avg_acc\n",
    "\n",
    "\n",
    "# --- Run Study ---\n",
    "study = optuna.create_study(direction=\"maximize\")\n",
    "study.optimize(objective, n_trials=5)"
   ]
  }
 ],
 "metadata": {
  "kernelspec": {
   "display_name": "Python 3 (ipykernel)",
   "language": "python",
   "name": "python3"
  },
  "language_info": {
   "codemirror_mode": {
    "name": "ipython",
    "version": 3
   },
   "file_extension": ".py",
   "mimetype": "text/x-python",
   "name": "python",
   "nbconvert_exporter": "python",
   "pygments_lexer": "ipython3",
   "version": "3.11.6"
  }
 },
 "nbformat": 4,
 "nbformat_minor": 5
}
